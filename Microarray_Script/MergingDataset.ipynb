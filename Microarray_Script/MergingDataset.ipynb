{
 "cells": [
  {
   "cell_type": "code",
   "execution_count": 24,
   "metadata": {},
   "outputs": [],
   "source": [
    "import os\n",
    "import pandas as pd\n",
    "import matplotlib.pyplot as plt\n",
    "import numpy as np\n",
    "import joblib\n",
    "import re\n",
    "import gget\n",
    "import requests\n",
    "import warnings"
   ]
  },
  {
   "cell_type": "code",
   "execution_count": 25,
   "metadata": {},
   "outputs": [
    {
     "data": {
      "text/plain": [
       "'c:\\\\Users\\\\samue\\\\OneDrive\\\\Documenti\\\\Studio\\\\Università\\\\Tesi\\\\Progetto\\\\Ricerca\\\\Symbol\\\\Annotated'"
      ]
     },
     "execution_count": 25,
     "metadata": {},
     "output_type": "execute_result"
    }
   ],
   "source": [
    "os.getcwd()"
   ]
  },
  {
   "cell_type": "code",
   "execution_count": 9,
   "metadata": {},
   "outputs": [],
   "source": [
    "os.chdir(\"..\")"
   ]
  },
  {
   "cell_type": "code",
   "execution_count": 10,
   "metadata": {},
   "outputs": [],
   "source": [
    "path = \"/SYMBOL\""
   ]
  },
  {
   "cell_type": "code",
   "execution_count": null,
   "metadata": {},
   "outputs": [],
   "source": [
    "os.chdir(\"..\"+path)"
   ]
  },
  {
   "cell_type": "markdown",
   "metadata": {},
   "source": [
    "<h3>Lettura dei dataset normalizzati con RMA e filtrati</h3>"
   ]
  },
  {
   "cell_type": "code",
   "execution_count": 14,
   "metadata": {},
   "outputs": [],
   "source": [
    "os.chdir('Annotated')"
   ]
  },
  {
   "cell_type": "code",
   "execution_count": 26,
   "metadata": {},
   "outputs": [],
   "source": [
    "gse41848 = pd.read_csv('GSE41848_filtered.csv', index_col=0)\n",
    "gse41849 = pd.read_csv('GSE41849_filtered.csv', index_col=0)\n",
    "gse146383 = pd.read_csv('GSE146383_filtered.csv', index_col=0)\n",
    "gse13732 = pd.read_csv('GSE13732_filtered.csv', index_col=0)\n",
    "gse136411 = pd.read_csv('GSE136411_filtered.csv', index_col=0)\n",
    "gse17048 = pd.read_csv('GSE17048_filtered.csv', index_col=0)\n",
    "gse41890 = pd.read_csv('GSE41890_filtered.csv', index_col=0)\n",
    "gse21942 = pd.read_csv('GSE21942_filtered.csv', index_col=0)"
   ]
  },
  {
   "cell_type": "code",
   "execution_count": 27,
   "metadata": {},
   "outputs": [],
   "source": [
    "# datasetList = [gse41848, gse41849, gse146383, gse13732, gse136411, gse17048, gse41890, gse21942]\n",
    "# nameList = ['GSE41848', 'GSE41849', 'GSE146383', 'GSE13732', 'GSE136411', 'GSE17048', 'GSE41890', 'GSE21942']\n",
    "\n",
    "datasetList = [gse41848, gse41849, gse146383, gse13732, gse17048, gse41890, gse21942]\n",
    "nameList = ['GSE41848', 'GSE41849', 'GSE146383', 'GSE13732', 'GSE17048', 'GSE41890', 'GSE21942']"
   ]
  },
  {
   "cell_type": "markdown",
   "metadata": {},
   "source": [
    "<h3>Drop del genere</h3> "
   ]
  },
  {
   "cell_type": "code",
   "execution_count": 28,
   "metadata": {},
   "outputs": [
    {
     "name": "stdout",
     "output_type": "stream",
     "text": [
      "GSE41849\n"
     ]
    }
   ],
   "source": [
    "for dataset, datasetName in zip(datasetList, nameList):\n",
    "    if 'Gender' in dataset.columns:\n",
    "        print(datasetName)\n",
    "        dataset.drop(['Gender'], axis=1, inplace=True)"
   ]
  },
  {
   "cell_type": "markdown",
   "metadata": {},
   "source": [
    "<h3>Calcolo dei geni comuni ai vari dataset</h3>"
   ]
  },
  {
   "cell_type": "code",
   "execution_count": 29,
   "metadata": {},
   "outputs": [
    {
     "name": "stdout",
     "output_type": "stream",
     "text": [
      "7\n",
      "11492 15969\n"
     ]
    }
   ],
   "source": [
    "geneList = [dataset.columns[1:] for dataset in datasetList]\n",
    "\n",
    "def corrispondenze(arrays, n):\n",
    "    print(len(arrays))\n",
    "    corrispondenzeMultiple = set()\n",
    "    corrispondenzeEsatte = set()\n",
    "    conteggio = {}\n",
    "    \n",
    "    for array in arrays:\n",
    "        for stringa in set(array):\n",
    "            conteggio[stringa] = conteggio.get(stringa, 0) + 1\n",
    "    \n",
    "    for stringa, conteggio in conteggio.items():\n",
    "        if conteggio >= n-1:\n",
    "            corrispondenzeMultiple.add(stringa)\n",
    "        if conteggio == n:\n",
    "            corrispondenzeEsatte.add(stringa)\n",
    "    \n",
    "    return list(corrispondenzeEsatte), list(corrispondenzeMultiple)\n",
    "\n",
    "corrispondenzeEsatte, corrispondenzeMultiple = corrispondenze(geneList, len(geneList))\n",
    "\n",
    "print(len(corrispondenzeEsatte), len(corrispondenzeMultiple))\n",
    "# print(\"Geni in comune a GSE41848:\", len(set(corrispondenzeMultiple) & set(geneList[0])))\n",
    "# print(\"Geni in comune a GSE41849:\", len(set(corrispondenzeMultiple) & set(geneList[1])))\n",
    "# print(\"Geni in comune a GSE146383:\", len(set(corrispondenzeMultiple) & set(geneList[2])))\n",
    "# print(\"Geni in comune a GSE13732:\", len(set(corrispondenzeMultiple) & set(geneList[3])))\n",
    "# print(\"Geni in comune a GSE136411:\", len(set(corrispondenzeMultiple) & set(geneList[4])))\n",
    "# print(\"Geni in comune a GSE17048:\", len(set(corrispondenzeMultiple) & set(geneList[5])))\n",
    "# print(\"Geni in comune a GSE41890:\", len(set(corrispondenzeMultiple) & set(geneList[6])))\n",
    "# print(\"Geni in comune a GSE21942:\", len(set(corrispondenzeMultiple) & set(geneList[7])))"
   ]
  },
  {
   "cell_type": "markdown",
   "metadata": {},
   "source": [
    "<h3>Merging dei vari dataset in un'unico dataset sulla base dei geni in comune</h3>"
   ]
  },
  {
   "cell_type": "code",
   "execution_count": 30,
   "metadata": {},
   "outputs": [
    {
     "name": "stdout",
     "output_type": "stream",
     "text": [
      "(729, 11494)\n",
      "I pazienti malati sono: 434\n",
      "I pazienti sani sono: 295\n"
     ]
    },
    {
     "data": {
      "text/html": [
       "<div>\n",
       "<style scoped>\n",
       "    .dataframe tbody tr th:only-of-type {\n",
       "        vertical-align: middle;\n",
       "    }\n",
       "\n",
       "    .dataframe tbody tr th {\n",
       "        vertical-align: top;\n",
       "    }\n",
       "\n",
       "    .dataframe thead th {\n",
       "        text-align: right;\n",
       "    }\n",
       "</style>\n",
       "<table border=\"1\" class=\"dataframe\">\n",
       "  <thead>\n",
       "    <tr style=\"text-align: right;\">\n",
       "      <th></th>\n",
       "      <th>SampleID</th>\n",
       "      <th>Label</th>\n",
       "      <th>XPO6</th>\n",
       "      <th>ARPC1A</th>\n",
       "      <th>THOP1</th>\n",
       "      <th>ATP2B2</th>\n",
       "      <th>CSTA</th>\n",
       "      <th>PKM</th>\n",
       "      <th>MAPK1IP1L</th>\n",
       "      <th>ABCG2</th>\n",
       "      <th>...</th>\n",
       "      <th>GPR25</th>\n",
       "      <th>LRRC31</th>\n",
       "      <th>GPR88</th>\n",
       "      <th>LAMTOR3</th>\n",
       "      <th>ACTL6A</th>\n",
       "      <th>MS4A6A</th>\n",
       "      <th>BAZ2A</th>\n",
       "      <th>TPM1</th>\n",
       "      <th>DIABLO</th>\n",
       "      <th>DOC2A</th>\n",
       "    </tr>\n",
       "  </thead>\n",
       "  <tbody>\n",
       "    <tr>\n",
       "      <th>0</th>\n",
       "      <td>0-GSM1026056_600009.0001</td>\n",
       "      <td>1</td>\n",
       "      <td>11.650549</td>\n",
       "      <td>5.956854</td>\n",
       "      <td>7.162408</td>\n",
       "      <td>6.453192</td>\n",
       "      <td>6.417070</td>\n",
       "      <td>9.921520</td>\n",
       "      <td>9.345639</td>\n",
       "      <td>5.526452</td>\n",
       "      <td>...</td>\n",
       "      <td>7.967350</td>\n",
       "      <td>3.591659</td>\n",
       "      <td>6.990793</td>\n",
       "      <td>8.102131</td>\n",
       "      <td>6.348476</td>\n",
       "      <td>8.500851</td>\n",
       "      <td>8.825179</td>\n",
       "      <td>7.069051</td>\n",
       "      <td>7.250345</td>\n",
       "      <td>6.006205</td>\n",
       "    </tr>\n",
       "    <tr>\n",
       "      <th>1</th>\n",
       "      <td>0-GSM1026057_600009.0001-FollowUp_1</td>\n",
       "      <td>1</td>\n",
       "      <td>11.868237</td>\n",
       "      <td>5.697745</td>\n",
       "      <td>7.424835</td>\n",
       "      <td>6.495434</td>\n",
       "      <td>6.685321</td>\n",
       "      <td>10.243414</td>\n",
       "      <td>9.292087</td>\n",
       "      <td>5.236324</td>\n",
       "      <td>...</td>\n",
       "      <td>8.134902</td>\n",
       "      <td>3.375409</td>\n",
       "      <td>6.983589</td>\n",
       "      <td>8.120959</td>\n",
       "      <td>6.256685</td>\n",
       "      <td>8.546182</td>\n",
       "      <td>9.181231</td>\n",
       "      <td>6.840454</td>\n",
       "      <td>7.261851</td>\n",
       "      <td>6.411964</td>\n",
       "    </tr>\n",
       "    <tr>\n",
       "      <th>2</th>\n",
       "      <td>0-GSM1026058_41461.0001</td>\n",
       "      <td>1</td>\n",
       "      <td>12.204048</td>\n",
       "      <td>6.588301</td>\n",
       "      <td>7.326014</td>\n",
       "      <td>6.598216</td>\n",
       "      <td>6.348511</td>\n",
       "      <td>9.966085</td>\n",
       "      <td>9.231655</td>\n",
       "      <td>5.071786</td>\n",
       "      <td>...</td>\n",
       "      <td>8.168079</td>\n",
       "      <td>3.773682</td>\n",
       "      <td>7.172718</td>\n",
       "      <td>7.942987</td>\n",
       "      <td>6.254222</td>\n",
       "      <td>8.844696</td>\n",
       "      <td>9.155631</td>\n",
       "      <td>7.067990</td>\n",
       "      <td>6.993573</td>\n",
       "      <td>6.368026</td>\n",
       "    </tr>\n",
       "    <tr>\n",
       "      <th>3</th>\n",
       "      <td>0-GSM1026059_41462.0001</td>\n",
       "      <td>1</td>\n",
       "      <td>12.176452</td>\n",
       "      <td>6.606812</td>\n",
       "      <td>7.162027</td>\n",
       "      <td>6.207555</td>\n",
       "      <td>7.208305</td>\n",
       "      <td>9.979140</td>\n",
       "      <td>9.465428</td>\n",
       "      <td>5.545075</td>\n",
       "      <td>...</td>\n",
       "      <td>7.850931</td>\n",
       "      <td>3.516395</td>\n",
       "      <td>6.631965</td>\n",
       "      <td>8.697892</td>\n",
       "      <td>6.409212</td>\n",
       "      <td>9.180507</td>\n",
       "      <td>9.190014</td>\n",
       "      <td>7.263440</td>\n",
       "      <td>7.425670</td>\n",
       "      <td>5.655392</td>\n",
       "    </tr>\n",
       "    <tr>\n",
       "      <th>4</th>\n",
       "      <td>0-GSM1026060_600029.0001</td>\n",
       "      <td>1</td>\n",
       "      <td>12.151468</td>\n",
       "      <td>6.195992</td>\n",
       "      <td>7.083782</td>\n",
       "      <td>6.361748</td>\n",
       "      <td>7.705152</td>\n",
       "      <td>10.225707</td>\n",
       "      <td>9.573062</td>\n",
       "      <td>5.356958</td>\n",
       "      <td>...</td>\n",
       "      <td>7.915110</td>\n",
       "      <td>3.280334</td>\n",
       "      <td>6.707222</td>\n",
       "      <td>8.457575</td>\n",
       "      <td>6.421640</td>\n",
       "      <td>9.398804</td>\n",
       "      <td>9.362108</td>\n",
       "      <td>6.928783</td>\n",
       "      <td>7.118576</td>\n",
       "      <td>5.806177</td>\n",
       "    </tr>\n",
       "    <tr>\n",
       "      <th>...</th>\n",
       "      <td>...</td>\n",
       "      <td>...</td>\n",
       "      <td>...</td>\n",
       "      <td>...</td>\n",
       "      <td>...</td>\n",
       "      <td>...</td>\n",
       "      <td>...</td>\n",
       "      <td>...</td>\n",
       "      <td>...</td>\n",
       "      <td>...</td>\n",
       "      <td>...</td>\n",
       "      <td>...</td>\n",
       "      <td>...</td>\n",
       "      <td>...</td>\n",
       "      <td>...</td>\n",
       "      <td>...</td>\n",
       "      <td>...</td>\n",
       "      <td>...</td>\n",
       "      <td>...</td>\n",
       "      <td>...</td>\n",
       "      <td>...</td>\n",
       "    </tr>\n",
       "    <tr>\n",
       "      <th>724</th>\n",
       "      <td>6-GSM545842_M10</td>\n",
       "      <td>1</td>\n",
       "      <td>9.325217</td>\n",
       "      <td>8.476524</td>\n",
       "      <td>6.215869</td>\n",
       "      <td>5.096182</td>\n",
       "      <td>11.247372</td>\n",
       "      <td>10.479694</td>\n",
       "      <td>10.073199</td>\n",
       "      <td>3.730077</td>\n",
       "      <td>...</td>\n",
       "      <td>3.598088</td>\n",
       "      <td>2.912370</td>\n",
       "      <td>2.874592</td>\n",
       "      <td>9.129791</td>\n",
       "      <td>7.374601</td>\n",
       "      <td>10.937702</td>\n",
       "      <td>7.659700</td>\n",
       "      <td>8.224351</td>\n",
       "      <td>8.772679</td>\n",
       "      <td>4.732198</td>\n",
       "    </tr>\n",
       "    <tr>\n",
       "      <th>725</th>\n",
       "      <td>6-GSM545843_M11</td>\n",
       "      <td>1</td>\n",
       "      <td>9.240105</td>\n",
       "      <td>8.279137</td>\n",
       "      <td>5.773038</td>\n",
       "      <td>4.877793</td>\n",
       "      <td>11.246373</td>\n",
       "      <td>9.645089</td>\n",
       "      <td>10.210183</td>\n",
       "      <td>3.555146</td>\n",
       "      <td>...</td>\n",
       "      <td>3.375732</td>\n",
       "      <td>3.044542</td>\n",
       "      <td>2.536759</td>\n",
       "      <td>9.228510</td>\n",
       "      <td>8.381170</td>\n",
       "      <td>10.820722</td>\n",
       "      <td>7.137152</td>\n",
       "      <td>7.823008</td>\n",
       "      <td>8.878464</td>\n",
       "      <td>5.040987</td>\n",
       "    </tr>\n",
       "    <tr>\n",
       "      <th>726</th>\n",
       "      <td>6-GSM545844_M11-FollowUp_1</td>\n",
       "      <td>1</td>\n",
       "      <td>9.348508</td>\n",
       "      <td>7.925483</td>\n",
       "      <td>5.735498</td>\n",
       "      <td>4.853527</td>\n",
       "      <td>11.318210</td>\n",
       "      <td>9.527473</td>\n",
       "      <td>10.650822</td>\n",
       "      <td>3.820406</td>\n",
       "      <td>...</td>\n",
       "      <td>3.153846</td>\n",
       "      <td>2.919875</td>\n",
       "      <td>2.604844</td>\n",
       "      <td>9.268521</td>\n",
       "      <td>8.231973</td>\n",
       "      <td>10.698401</td>\n",
       "      <td>7.404353</td>\n",
       "      <td>8.017363</td>\n",
       "      <td>8.946480</td>\n",
       "      <td>5.257213</td>\n",
       "    </tr>\n",
       "    <tr>\n",
       "      <th>727</th>\n",
       "      <td>6-GSM545845_M12</td>\n",
       "      <td>1</td>\n",
       "      <td>9.150152</td>\n",
       "      <td>8.293933</td>\n",
       "      <td>5.593354</td>\n",
       "      <td>4.877793</td>\n",
       "      <td>11.183782</td>\n",
       "      <td>9.740226</td>\n",
       "      <td>10.254200</td>\n",
       "      <td>4.051920</td>\n",
       "      <td>...</td>\n",
       "      <td>3.460705</td>\n",
       "      <td>3.024201</td>\n",
       "      <td>2.660720</td>\n",
       "      <td>9.390753</td>\n",
       "      <td>8.217098</td>\n",
       "      <td>10.725866</td>\n",
       "      <td>7.098828</td>\n",
       "      <td>8.318048</td>\n",
       "      <td>8.803759</td>\n",
       "      <td>4.973154</td>\n",
       "    </tr>\n",
       "    <tr>\n",
       "      <th>728</th>\n",
       "      <td>6-GSM545846_M12-FollowUp_1</td>\n",
       "      <td>1</td>\n",
       "      <td>9.428572</td>\n",
       "      <td>7.966520</td>\n",
       "      <td>5.740724</td>\n",
       "      <td>4.756797</td>\n",
       "      <td>11.205737</td>\n",
       "      <td>9.805391</td>\n",
       "      <td>10.684765</td>\n",
       "      <td>4.137255</td>\n",
       "      <td>...</td>\n",
       "      <td>3.360746</td>\n",
       "      <td>2.857502</td>\n",
       "      <td>2.586661</td>\n",
       "      <td>9.351598</td>\n",
       "      <td>8.249196</td>\n",
       "      <td>10.799216</td>\n",
       "      <td>7.486778</td>\n",
       "      <td>8.301014</td>\n",
       "      <td>8.803759</td>\n",
       "      <td>5.052076</td>\n",
       "    </tr>\n",
       "  </tbody>\n",
       "</table>\n",
       "<p>729 rows × 11494 columns</p>\n",
       "</div>"
      ],
      "text/plain": [
       "                                SampleID  Label       XPO6    ARPC1A  \\\n",
       "0               0-GSM1026056_600009.0001      1  11.650549  5.956854   \n",
       "1    0-GSM1026057_600009.0001-FollowUp_1      1  11.868237  5.697745   \n",
       "2                0-GSM1026058_41461.0001      1  12.204048  6.588301   \n",
       "3                0-GSM1026059_41462.0001      1  12.176452  6.606812   \n",
       "4               0-GSM1026060_600029.0001      1  12.151468  6.195992   \n",
       "..                                   ...    ...        ...       ...   \n",
       "724                      6-GSM545842_M10      1   9.325217  8.476524   \n",
       "725                      6-GSM545843_M11      1   9.240105  8.279137   \n",
       "726           6-GSM545844_M11-FollowUp_1      1   9.348508  7.925483   \n",
       "727                      6-GSM545845_M12      1   9.150152  8.293933   \n",
       "728           6-GSM545846_M12-FollowUp_1      1   9.428572  7.966520   \n",
       "\n",
       "        THOP1    ATP2B2       CSTA        PKM  MAPK1IP1L     ABCG2  ...  \\\n",
       "0    7.162408  6.453192   6.417070   9.921520   9.345639  5.526452  ...   \n",
       "1    7.424835  6.495434   6.685321  10.243414   9.292087  5.236324  ...   \n",
       "2    7.326014  6.598216   6.348511   9.966085   9.231655  5.071786  ...   \n",
       "3    7.162027  6.207555   7.208305   9.979140   9.465428  5.545075  ...   \n",
       "4    7.083782  6.361748   7.705152  10.225707   9.573062  5.356958  ...   \n",
       "..        ...       ...        ...        ...        ...       ...  ...   \n",
       "724  6.215869  5.096182  11.247372  10.479694  10.073199  3.730077  ...   \n",
       "725  5.773038  4.877793  11.246373   9.645089  10.210183  3.555146  ...   \n",
       "726  5.735498  4.853527  11.318210   9.527473  10.650822  3.820406  ...   \n",
       "727  5.593354  4.877793  11.183782   9.740226  10.254200  4.051920  ...   \n",
       "728  5.740724  4.756797  11.205737   9.805391  10.684765  4.137255  ...   \n",
       "\n",
       "        GPR25    LRRC31     GPR88   LAMTOR3    ACTL6A     MS4A6A     BAZ2A  \\\n",
       "0    7.967350  3.591659  6.990793  8.102131  6.348476   8.500851  8.825179   \n",
       "1    8.134902  3.375409  6.983589  8.120959  6.256685   8.546182  9.181231   \n",
       "2    8.168079  3.773682  7.172718  7.942987  6.254222   8.844696  9.155631   \n",
       "3    7.850931  3.516395  6.631965  8.697892  6.409212   9.180507  9.190014   \n",
       "4    7.915110  3.280334  6.707222  8.457575  6.421640   9.398804  9.362108   \n",
       "..        ...       ...       ...       ...       ...        ...       ...   \n",
       "724  3.598088  2.912370  2.874592  9.129791  7.374601  10.937702  7.659700   \n",
       "725  3.375732  3.044542  2.536759  9.228510  8.381170  10.820722  7.137152   \n",
       "726  3.153846  2.919875  2.604844  9.268521  8.231973  10.698401  7.404353   \n",
       "727  3.460705  3.024201  2.660720  9.390753  8.217098  10.725866  7.098828   \n",
       "728  3.360746  2.857502  2.586661  9.351598  8.249196  10.799216  7.486778   \n",
       "\n",
       "         TPM1    DIABLO     DOC2A  \n",
       "0    7.069051  7.250345  6.006205  \n",
       "1    6.840454  7.261851  6.411964  \n",
       "2    7.067990  6.993573  6.368026  \n",
       "3    7.263440  7.425670  5.655392  \n",
       "4    6.928783  7.118576  5.806177  \n",
       "..        ...       ...       ...  \n",
       "724  8.224351  8.772679  4.732198  \n",
       "725  7.823008  8.878464  5.040987  \n",
       "726  8.017363  8.946480  5.257213  \n",
       "727  8.318048  8.803759  4.973154  \n",
       "728  8.301014  8.803759  5.052076  \n",
       "\n",
       "[729 rows x 11494 columns]"
      ]
     },
     "execution_count": 30,
     "metadata": {},
     "output_type": "execute_result"
    }
   ],
   "source": [
    "def add(dataset, columns):\n",
    "    for column in columns:\n",
    "        if column not in dataset.columns.values:\n",
    "            print(\"aggiungo\")\n",
    "            dataset[column] = 0\n",
    "    return dataset\n",
    "\n",
    "\n",
    "def merge(datasets, genes):\n",
    "    merged = pd.DataFrame()\n",
    "    columns = ['SampleID']+genes\n",
    "    length = 0\n",
    "    for dataset in datasets:\n",
    "        if ~ np.all(np.isin(dataset.columns.values, columns)): dataset=add(dataset, columns)\n",
    "        filtered = dataset[columns]\n",
    "        if merged.empty:\n",
    "            merged = filtered\n",
    "        else:\n",
    "            merged = pd.concat([merged, filtered], ignore_index=True)\n",
    "    \n",
    "    return merged\n",
    "\n",
    "mergedDataset = merge(datasetList, genes=corrispondenzeEsatte)\n",
    "\n",
    "def rename(entry, sampleSeries):\n",
    "    for i in range(0, len(sampleSeries)):\n",
    "        if entry in sampleSeries[i].values:\n",
    "            return str(i)+'-'+entry\n",
    "\n",
    "mergedDataset['SampleID'] = mergedDataset['SampleID'].apply(lambda x: rename(x, [dataset['SampleID'] for dataset in datasetList]))\n",
    "\n",
    "def etichetta(entry):\n",
    "    return 0 if 'Control' in entry else 1\n",
    "\n",
    "label = pd.DataFrame()\n",
    "label['SampleID'] = mergedDataset['SampleID']\n",
    "label['Label'] = mergedDataset['SampleID'].apply(lambda x: etichetta(x))\n",
    "\n",
    "mergedDataset = label.merge(mergedDataset, on='SampleID', how='inner')\n",
    "\n",
    "print(mergedDataset.shape)\n",
    "print(\"I pazienti malati sono:\", mergedDataset['Label'].sum())\n",
    "print(\"I pazienti sani sono:\", mergedDataset.shape[0] - mergedDataset['Label'].sum())\n",
    "mergedDataset"
   ]
  },
  {
   "cell_type": "markdown",
   "metadata": {},
   "source": [
    "Controllo 0 e NA"
   ]
  },
  {
   "cell_type": "code",
   "execution_count": 31,
   "metadata": {},
   "outputs": [
    {
     "name": "stdout",
     "output_type": "stream",
     "text": [
      "0\n",
      "0\n",
      "0\n"
     ]
    }
   ],
   "source": [
    "print(mergedDataset.columns.isna().sum())\n",
    "print(mergedDataset.isna().sum().sum())\n",
    "print(mergedDataset[mergedDataset.columns[2:]].eq(0).sum().sum())"
   ]
  },
  {
   "cell_type": "markdown",
   "metadata": {},
   "source": [
    "<h3>Salvataggio del dataset Merged</h3>"
   ]
  },
  {
   "cell_type": "code",
   "execution_count": 22,
   "metadata": {},
   "outputs": [
    {
     "data": {
      "text/plain": [
       "'c:\\\\Users\\\\samue\\\\OneDrive\\\\Documenti\\\\Studio\\\\Università\\\\Tesi\\\\Progetto\\\\Ricerca\\\\Symbol\\\\Annotated'"
      ]
     },
     "execution_count": 22,
     "metadata": {},
     "output_type": "execute_result"
    }
   ],
   "source": [
    "os.getcwd()"
   ]
  },
  {
   "cell_type": "code",
   "execution_count": 32,
   "metadata": {},
   "outputs": [],
   "source": [
    "mergedDataset.to_csv('../Dataset/MergedDatasetReduced_symbol.csv', index=False)"
   ]
  },
  {
   "cell_type": "markdown",
   "metadata": {},
   "source": [
    "<h3>Mapping Ensembl to Symbol<h3>"
   ]
  },
  {
   "cell_type": "code",
   "execution_count": 17,
   "metadata": {},
   "outputs": [],
   "source": [
    "def ensembl_to_symbol(ensembl_id):\n",
    "    url = f\"https://rest.ensembl.org/lookup/id/{ensembl_id}?content-type=application/json\"\n",
    "    response = requests.get(url)\n",
    "    \n",
    "    if response.status_code == 200:\n",
    "        data = response.json()\n",
    "        return data.get(\"display_name\", None)\n",
    "    return None\n",
    "\n",
    "newColumns = [ensembl_to_symbol(gene) for gene in mergedDataset.columns[2:]]"
   ]
  }
 ],
 "metadata": {
  "kernelspec": {
   "display_name": "Python 3",
   "language": "python",
   "name": "python3"
  },
  "language_info": {
   "codemirror_mode": {
    "name": "ipython",
    "version": 3
   },
   "file_extension": ".py",
   "mimetype": "text/x-python",
   "name": "python",
   "nbconvert_exporter": "python",
   "pygments_lexer": "ipython3",
   "version": "3.11.0"
  }
 },
 "nbformat": 4,
 "nbformat_minor": 2
}
